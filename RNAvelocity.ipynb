{
 "cells": [
  {
   "cell_type": "code",
   "execution_count": null,
   "metadata": {},
   "outputs": [],
   "source": [
    "import numpy as np\n",
    "import pandas as pd\n",
    "import matplotlib.pyplot as pl\n",
    "import scanpy as sc\n",
    "import igraph\n",
    "import scvelo as scv\n",
    "import loompy as lmp\n",
    "import anndata\n",
    "\n",
    "import warnings\n",
    "warnings.filterwarnings('ignore')\n",
    "from scipy import io\n",
    "from scipy.sparse import coo_matrix, csr_matrix\n",
    "import os "
   ]
  },
  {
   "cell_type": "code",
   "execution_count": null,
   "metadata": {},
   "outputs": [],
   "source": [
    "# load sparse matrix:\n",
    "X = io.mmread(\"C:\\\\Users\\\\arshe\\\\OneDrive\\\\Desktop\\\\Working data\\\\scRNAseq\\\\nkx3.1_52hpf_2\\\\IP\\\\counts.mtx\")\n",
    "# create anndata object\n",
    "adata = anndata.AnnData(\n",
    "    X=X.transpose().tocsr()\n",
    ")\n",
    "# load cell metadata:\n",
    "cell_meta = pd.read_csv(\"C:\\\\Users\\\\arshe\\\\OneDrive\\\\Desktop\\\\Working data\\\\scRNAseq\\\\nkx3.1_52hpf_2\\\\IP\\\\metadata.csv\")\n",
    "# load gene names:\n",
    "with open(\"C:\\\\Users\\\\arshe\\\\OneDrive\\\\Desktop\\\\Working data\\\\scRNAseq\\\\nkx3.1_52hpf_2\\\\IP\\\\gene_names.csv\", 'r') as f:\n",
    "    gene_names = f.read().splitlines()"
   ]
  },
  {
   "cell_type": "code",
   "execution_count": null,
   "metadata": {},
   "outputs": [],
   "source": [
    "# set anndata observations and index obs by barcodes, var by gene names\n",
    "adata.obs = cell_meta\n",
    "adata.obs.index = adata.obs['barcode']\n",
    "adata.var.index = gene_names\n",
    "\n",
    "# load dimensional reduction:\n",
    "pca = pd.read_csv(\"C:\\\\Users\\\\arshe\\\\OneDrive\\\\Desktop\\\\Working data\\\\scRNAseq\\\\nkx3.1_52hpf_2\\\\IP\\\\pca.csv\")\n",
    "pca.index = adata.obs.index\n",
    "\n",
    "# set pca and umap\n",
    "adata.obsm['X_pca'] = pca.to_numpy()\n",
    "adata.obsm['X_umap'] = np.vstack((adata.obs['UMAP_1'].to_numpy(), adata.obs['UMAP_2'].to_numpy())).T\n",
    "\n",
    "# plot a UMAP colored by sample to test:\n",
    "sc.pl.umap(adata, color=['identity'], frameon=False, save=True)"
   ]
  },
  {
   "cell_type": "code",
   "execution_count": null,
   "metadata": {},
   "outputs": [],
   "source": [
    "\n",
    "scv.set_figure_params(style='scvelo')\n",
    "pl.rcParams['figure.figsize'] = (10,10)\n",
    "loom = scv.read(\"C:\\\\Users\\\\arshe\\\\OneDrive\\\\Desktop\\\\Working data\\\\scRNAseq\\\\nkx3.1_52hpf_2\\\\raw\\\\nkx3_1_52hpf.loom\", cache=True)\n",
    "# rename barcodes in order to merge:\n",
    "barcodes = [bc.split(':')[1] for bc in loom.obs.index.tolist()]\n",
    "barcodes = [bc[0:len(bc)-1] + '_10' for bc in barcodes]\n",
    "loom.obs.index = barcodes\n",
    "loom.var_names_make_unique()\n",
    "adata = scv.utils.merge(adata, loom)"
   ]
  },
  {
   "cell_type": "code",
   "execution_count": null,
   "metadata": {},
   "outputs": [],
   "source": [
    "# plot umap to check\n",
    "sc.pl.umap(adata, color='identity', frameon=False, legend_loc='on data')\n",
    "scv.pp.filter_and_normalize(adata)\n",
    "scv.pp.moments(adata)\n",
    "scv.tl.recover_dynamics(adata)\n",
    "scv.tl.velocity(adata, mode='dynamical')\n",
    "graph = scv.tl.velocity_graph(adata)\n",
    "scv.tl.recover_latent_time(adata)\n"
   ]
  },
  {
   "cell_type": "code",
   "execution_count": null,
   "metadata": {},
   "outputs": [],
   "source": [
    "scv.pl.velocity_embedding_grid(adata, basis='umap', color='identity', title='', scale=0.25, arrow_size= 2, min_mass = 0, density =1)\n",
    "scv.pl.velocity_embedding_stream(adata, basis='umap', title='', legend_loc='none',color='identity', palette=[ '#808080', '#698B69', '#FF7F50',  '#EE82EE', '#483D8B', '#00BFFF', '#CD1076'], arrow_size=3, density=3, min_mass=3)"
   ]
  },
  {
   "cell_type": "code",
   "execution_count": null,
   "metadata": {},
   "outputs": [],
   "source": [
    "scv.tl.velocity_confidence(adata)\n",
    "keys = 'velocity_length', 'velocity_confidence'\n",
    "scv.pl.scatter(adata, c=keys, cmap='coolwarm', perc=[5, 95])\n",
    "##length = speed/rate of differentiation\n",
    "\n",
    "df = adata.obs.groupby('identity')[keys].mean().T\n",
    "df"
   ]
  },
  {
   "cell_type": "code",
   "execution_count": null,
   "metadata": {},
   "outputs": [],
   "source": [
    "adata.write('C:\\\\Users\\\\arshe\\\\OneDrive\\\\Desktop\\\\Working data\\\\scRNAseq\\\\nkx3.1_52hpf_2\\\\IP\\\\Analyzed.h5ad')"
   ]
  }
 ],
 "metadata": {
  "language_info": {
   "name": "python"
  },
  "orig_nbformat": 4
 },
 "nbformat": 4,
 "nbformat_minor": 2
}
